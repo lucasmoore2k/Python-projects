{
  "nbformat": 4,
  "nbformat_minor": 0,
  "metadata": {
    "colab": {
      "name": "Aula5 - Enem-MachineLearning.ipynb",
      "provenance": [],
      "collapsed_sections": [],
      "authorship_tag": "ABX9TyMptOsLYLXEeRwRi/de60h8",
      "include_colab_link": true
    },
    "kernelspec": {
      "name": "python3",
      "display_name": "Python 3"
    }
  },
  "cells": [
    {
      "cell_type": "markdown",
      "metadata": {
        "id": "view-in-github",
        "colab_type": "text"
      },
      "source": [
        "<a href=\"https://colab.research.google.com/github/lucasmoore2k/Back-End-Projects/blob/master/Aula5_Enem_MachineLearning.ipynb\" target=\"_parent\"><img src=\"https://colab.research.google.com/assets/colab-badge.svg\" alt=\"Open In Colab\"/></a>"
      ]
    },
    {
      "cell_type": "code",
      "metadata": {
        "id": "MAIrOzTgA5mY",
        "colab_type": "code",
        "colab": {}
      },
      "source": [
        "import pandas as pd\n",
        "import seaborn as sns"
      ],
      "execution_count": 0,
      "outputs": []
    },
    {
      "cell_type": "code",
      "metadata": {
        "id": "9UdkmW2-XEis",
        "colab_type": "code",
        "colab": {}
      },
      "source": [
        "enem = pd.read_csv('https://github.com/guilhermesilveira/enem-2018/blob/master/MICRODADOS_ENEM_2018_SAMPLE_43278.csv?raw=true')"
      ],
      "execution_count": 0,
      "outputs": []
    },
    {
      "cell_type": "code",
      "metadata": {
        "id": "FHYaPGQ_XKTl",
        "colab_type": "code",
        "colab": {
          "base_uri": "https://localhost:8080/",
          "height": 204
        },
        "outputId": "150aa840-8ee3-4c1c-b401-931798e0dcb1"
      },
      "source": [
        "##Descartando NaN\n",
        "colunas_notas = ['NU_NOTA_CN','NU_NOTA_CH','NU_NOTA_LC','NU_NOTA_MT','NU_NOTA_REDACAO']\n",
        "enem_notas = enem[colunas_notas].dropna()\n",
        "enem_notas.columns = ['naturais','humanas','linguagens','matematica','redacao']\n",
        "enem_notas.head()"
      ],
      "execution_count": 40,
      "outputs": [
        {
          "output_type": "execute_result",
          "data": {
            "text/html": [
              "<div>\n",
              "<style scoped>\n",
              "    .dataframe tbody tr th:only-of-type {\n",
              "        vertical-align: middle;\n",
              "    }\n",
              "\n",
              "    .dataframe tbody tr th {\n",
              "        vertical-align: top;\n",
              "    }\n",
              "\n",
              "    .dataframe thead th {\n",
              "        text-align: right;\n",
              "    }\n",
              "</style>\n",
              "<table border=\"1\" class=\"dataframe\">\n",
              "  <thead>\n",
              "    <tr style=\"text-align: right;\">\n",
              "      <th></th>\n",
              "      <th>naturais</th>\n",
              "      <th>humanas</th>\n",
              "      <th>linguagens</th>\n",
              "      <th>matematica</th>\n",
              "      <th>redacao</th>\n",
              "    </tr>\n",
              "  </thead>\n",
              "  <tbody>\n",
              "    <tr>\n",
              "      <th>1</th>\n",
              "      <td>523.1</td>\n",
              "      <td>671.3</td>\n",
              "      <td>661.6</td>\n",
              "      <td>738.0</td>\n",
              "      <td>680.0</td>\n",
              "    </tr>\n",
              "    <tr>\n",
              "      <th>2</th>\n",
              "      <td>409.2</td>\n",
              "      <td>531.7</td>\n",
              "      <td>389.0</td>\n",
              "      <td>438.1</td>\n",
              "      <td>600.0</td>\n",
              "    </tr>\n",
              "    <tr>\n",
              "      <th>3</th>\n",
              "      <td>452.3</td>\n",
              "      <td>505.5</td>\n",
              "      <td>448.5</td>\n",
              "      <td>544.9</td>\n",
              "      <td>400.0</td>\n",
              "    </tr>\n",
              "    <tr>\n",
              "      <th>6</th>\n",
              "      <td>428.5</td>\n",
              "      <td>505.2</td>\n",
              "      <td>521.0</td>\n",
              "      <td>436.8</td>\n",
              "      <td>560.0</td>\n",
              "    </tr>\n",
              "    <tr>\n",
              "      <th>8</th>\n",
              "      <td>491.8</td>\n",
              "      <td>575.7</td>\n",
              "      <td>524.4</td>\n",
              "      <td>487.6</td>\n",
              "      <td>660.0</td>\n",
              "    </tr>\n",
              "  </tbody>\n",
              "</table>\n",
              "</div>"
            ],
            "text/plain": [
              "   naturais  humanas  linguagens  matematica  redacao\n",
              "1     523.1    671.3       661.6       738.0    680.0\n",
              "2     409.2    531.7       389.0       438.1    600.0\n",
              "3     452.3    505.5       448.5       544.9    400.0\n",
              "6     428.5    505.2       521.0       436.8    560.0\n",
              "8     491.8    575.7       524.4       487.6    660.0"
            ]
          },
          "metadata": {
            "tags": []
          },
          "execution_count": 40
        }
      ]
    },
    {
      "cell_type": "code",
      "metadata": {
        "id": "IxVgMDdpXi8d",
        "colab_type": "code",
        "colab": {}
      },
      "source": [
        "#Prever dados\n",
        "#A ideia do machine learning é TREINAR dados e TESTAR para prever hipotese\n",
        "\n",
        "#Teste 1\n",
        "#Usar conjunto de dados,nesse caso algumas COLUNAS e tentar a advinhar UMA/RESTANTE das colunas para\n",
        "#prever os resultados"
      ],
      "execution_count": 0,
      "outputs": []
    },
    {
      "cell_type": "code",
      "metadata": {
        "id": "J5RI14NqYux0",
        "colab_type": "code",
        "colab": {
          "base_uri": "https://localhost:8080/",
          "height": 204
        },
        "outputId": "d1d62215-df34-4523-f546-e25140af036b"
      },
      "source": [
        "colunas_teste = enem_notas[['naturais','humanas','matematica','redacao']]\n",
        "colunas_teste.head()"
      ],
      "execution_count": 42,
      "outputs": [
        {
          "output_type": "execute_result",
          "data": {
            "text/html": [
              "<div>\n",
              "<style scoped>\n",
              "    .dataframe tbody tr th:only-of-type {\n",
              "        vertical-align: middle;\n",
              "    }\n",
              "\n",
              "    .dataframe tbody tr th {\n",
              "        vertical-align: top;\n",
              "    }\n",
              "\n",
              "    .dataframe thead th {\n",
              "        text-align: right;\n",
              "    }\n",
              "</style>\n",
              "<table border=\"1\" class=\"dataframe\">\n",
              "  <thead>\n",
              "    <tr style=\"text-align: right;\">\n",
              "      <th></th>\n",
              "      <th>naturais</th>\n",
              "      <th>humanas</th>\n",
              "      <th>matematica</th>\n",
              "      <th>redacao</th>\n",
              "    </tr>\n",
              "  </thead>\n",
              "  <tbody>\n",
              "    <tr>\n",
              "      <th>1</th>\n",
              "      <td>523.1</td>\n",
              "      <td>671.3</td>\n",
              "      <td>738.0</td>\n",
              "      <td>680.0</td>\n",
              "    </tr>\n",
              "    <tr>\n",
              "      <th>2</th>\n",
              "      <td>409.2</td>\n",
              "      <td>531.7</td>\n",
              "      <td>438.1</td>\n",
              "      <td>600.0</td>\n",
              "    </tr>\n",
              "    <tr>\n",
              "      <th>3</th>\n",
              "      <td>452.3</td>\n",
              "      <td>505.5</td>\n",
              "      <td>544.9</td>\n",
              "      <td>400.0</td>\n",
              "    </tr>\n",
              "    <tr>\n",
              "      <th>6</th>\n",
              "      <td>428.5</td>\n",
              "      <td>505.2</td>\n",
              "      <td>436.8</td>\n",
              "      <td>560.0</td>\n",
              "    </tr>\n",
              "    <tr>\n",
              "      <th>8</th>\n",
              "      <td>491.8</td>\n",
              "      <td>575.7</td>\n",
              "      <td>487.6</td>\n",
              "      <td>660.0</td>\n",
              "    </tr>\n",
              "  </tbody>\n",
              "</table>\n",
              "</div>"
            ],
            "text/plain": [
              "   naturais  humanas  matematica  redacao\n",
              "1     523.1    671.3       738.0    680.0\n",
              "2     409.2    531.7       438.1    600.0\n",
              "3     452.3    505.5       544.9    400.0\n",
              "6     428.5    505.2       436.8    560.0\n",
              "8     491.8    575.7       487.6    660.0"
            ]
          },
          "metadata": {
            "tags": []
          },
          "execution_count": 42
        }
      ]
    },
    {
      "cell_type": "code",
      "metadata": {
        "id": "KZdjhFn2Y9Cz",
        "colab_type": "code",
        "colab": {
          "base_uri": "https://localhost:8080/",
          "height": 221
        },
        "outputId": "fddfe1b7-7b38-47ac-8609-1f4cf5d2413b"
      },
      "source": [
        "colunas_advinhar = enem_notas['linguagens']\n",
        "colunas_advinhar"
      ],
      "execution_count": 43,
      "outputs": [
        {
          "output_type": "execute_result",
          "data": {
            "text/plain": [
              "1         661.6\n",
              "2         389.0\n",
              "3         448.5\n",
              "6         521.0\n",
              "8         524.4\n",
              "          ...  \n",
              "137835    504.8\n",
              "137836    528.5\n",
              "137838    538.3\n",
              "137840    468.1\n",
              "137842    527.7\n",
              "Name: linguagens, Length: 97270, dtype: float64"
            ]
          },
          "metadata": {
            "tags": []
          },
          "execution_count": 43
        }
      ]
    },
    {
      "cell_type": "code",
      "metadata": {
        "id": "ErwODLSDZEoK",
        "colab_type": "code",
        "colab": {
          "base_uri": "https://localhost:8080/",
          "height": 221
        },
        "outputId": "5023fa25-5b59-404d-8fa8-f6c1f4f03ac4"
      },
      "source": [
        "#Leitura: Dado que eu tenho os 4 numeros da primeira linha eu quero o 5o numero\n",
        "#Chamo o que eu desejo de y e o que eu tenho de x\n",
        "\n",
        "x= colunas_teste\n",
        "\n",
        "y =  enem_notas['linguagens']\n",
        "y"
      ],
      "execution_count": 44,
      "outputs": [
        {
          "output_type": "execute_result",
          "data": {
            "text/plain": [
              "1         661.6\n",
              "2         389.0\n",
              "3         448.5\n",
              "6         521.0\n",
              "8         524.4\n",
              "          ...  \n",
              "137835    504.8\n",
              "137836    528.5\n",
              "137838    538.3\n",
              "137840    468.1\n",
              "137842    527.7\n",
              "Name: linguagens, Length: 97270, dtype: float64"
            ]
          },
          "metadata": {
            "tags": []
          },
          "execution_count": 44
        }
      ]
    },
    {
      "cell_type": "code",
      "metadata": {
        "id": "MpWseLGGZyKy",
        "colab_type": "code",
        "colab": {
          "base_uri": "https://localhost:8080/",
          "height": 850
        },
        "outputId": "d04944cc-fe03-4aee-96ab-e0f164e93100"
      },
      "source": [
        "#Algoritmo de machine learning\n",
        "\n",
        "from sklearn.model_selection import train_test_split\n",
        "\n",
        "train_test_split(x,y)"
      ],
      "execution_count": 45,
      "outputs": [
        {
          "output_type": "execute_result",
          "data": {
            "text/plain": [
              "[       naturais  humanas  matematica  redacao\n",
              " 56361     449.2    570.6       588.3    620.0\n",
              " 89694     558.5    664.8       628.5    620.0\n",
              " 14730     405.6    411.6       471.3    300.0\n",
              " 83151     474.4    501.9       486.3    340.0\n",
              " 59994     476.2    512.7       574.1    680.0\n",
              " ...         ...      ...         ...      ...\n",
              " 74819     464.9    602.9       421.9    300.0\n",
              " 4622      473.5    412.3       636.8      0.0\n",
              " 36247     572.4    624.1       636.3    640.0\n",
              " 93171     418.5    481.5       401.5    360.0\n",
              " 90514     434.0    613.6       682.4    620.0\n",
              " \n",
              " [72952 rows x 4 columns],         naturais  humanas  matematica  redacao\n",
              " 45552      482.5    456.5       492.2    460.0\n",
              " 37526      410.5    510.8       420.1    300.0\n",
              " 81324      457.0    635.4       455.8    560.0\n",
              " 106272     522.7    555.0       537.4    580.0\n",
              " 51996      550.6    564.2       532.2    720.0\n",
              " ...          ...      ...         ...      ...\n",
              " 104781     452.1    531.4       583.3    580.0\n",
              " 115190     522.8    572.6       460.3    520.0\n",
              " 48763      459.7    470.6       418.1    420.0\n",
              " 70000      622.6    661.7       720.6    900.0\n",
              " 33655      542.8    620.6       571.3    480.0\n",
              " \n",
              " [24318 rows x 4 columns], 56361    546.2\n",
              " 89694    597.0\n",
              " 14730    423.2\n",
              " 83151    456.5\n",
              " 59994    481.8\n",
              "          ...  \n",
              " 74819    523.3\n",
              " 4622     564.9\n",
              " 36247    588.9\n",
              " 93171    481.2\n",
              " 90514    600.3\n",
              " Name: linguagens, Length: 72952, dtype: float64, 45552     502.7\n",
              " 37526     490.4\n",
              " 81324     577.0\n",
              " 106272    550.2\n",
              " 51996     519.9\n",
              "           ...  \n",
              " 104781    523.5\n",
              " 115190    461.3\n",
              " 48763     489.3\n",
              " 70000     622.4\n",
              " 33655     591.9\n",
              " Name: linguagens, Length: 24318, dtype: float64]"
            ]
          },
          "metadata": {
            "tags": []
          },
          "execution_count": 45
        }
      ]
    },
    {
      "cell_type": "code",
      "metadata": {
        "id": "K50R0WRVaDS8",
        "colab_type": "code",
        "colab": {
          "base_uri": "https://localhost:8080/",
          "height": 204
        },
        "outputId": "3d457ec9-e9ad-4427-c06f-f365b35ae6d7"
      },
      "source": [
        "#Tenho que atribuir valores de TREINO e TESTE para retornar as váriaveis que desejo\n",
        "#Se eu desejar SETAR valores para não ter aleatoriedade no caso da repetição do algoritmo,\n",
        "#Eu posso colocar o random_state = numero qualquer ou importar a biblioteca numpy \n",
        "#Setando o np.random.seed(outronumeroqualquer)\n",
        "\n",
        "x_treino,x_teste,y_treino,y_teste = train_test_split(x,y)\n",
        "\n",
        "#Treinando o x\n",
        "x_treino.head()"
      ],
      "execution_count": 46,
      "outputs": [
        {
          "output_type": "execute_result",
          "data": {
            "text/html": [
              "<div>\n",
              "<style scoped>\n",
              "    .dataframe tbody tr th:only-of-type {\n",
              "        vertical-align: middle;\n",
              "    }\n",
              "\n",
              "    .dataframe tbody tr th {\n",
              "        vertical-align: top;\n",
              "    }\n",
              "\n",
              "    .dataframe thead th {\n",
              "        text-align: right;\n",
              "    }\n",
              "</style>\n",
              "<table border=\"1\" class=\"dataframe\">\n",
              "  <thead>\n",
              "    <tr style=\"text-align: right;\">\n",
              "      <th></th>\n",
              "      <th>naturais</th>\n",
              "      <th>humanas</th>\n",
              "      <th>matematica</th>\n",
              "      <th>redacao</th>\n",
              "    </tr>\n",
              "  </thead>\n",
              "  <tbody>\n",
              "    <tr>\n",
              "      <th>12316</th>\n",
              "      <td>413.6</td>\n",
              "      <td>528.8</td>\n",
              "      <td>411.8</td>\n",
              "      <td>340.0</td>\n",
              "    </tr>\n",
              "    <tr>\n",
              "      <th>97639</th>\n",
              "      <td>384.4</td>\n",
              "      <td>412.5</td>\n",
              "      <td>506.1</td>\n",
              "      <td>120.0</td>\n",
              "    </tr>\n",
              "    <tr>\n",
              "      <th>56971</th>\n",
              "      <td>554.4</td>\n",
              "      <td>650.5</td>\n",
              "      <td>626.5</td>\n",
              "      <td>320.0</td>\n",
              "    </tr>\n",
              "    <tr>\n",
              "      <th>29654</th>\n",
              "      <td>512.3</td>\n",
              "      <td>530.4</td>\n",
              "      <td>477.7</td>\n",
              "      <td>360.0</td>\n",
              "    </tr>\n",
              "    <tr>\n",
              "      <th>37825</th>\n",
              "      <td>430.1</td>\n",
              "      <td>532.3</td>\n",
              "      <td>498.4</td>\n",
              "      <td>520.0</td>\n",
              "    </tr>\n",
              "  </tbody>\n",
              "</table>\n",
              "</div>"
            ],
            "text/plain": [
              "       naturais  humanas  matematica  redacao\n",
              "12316     413.6    528.8       411.8    340.0\n",
              "97639     384.4    412.5       506.1    120.0\n",
              "56971     554.4    650.5       626.5    320.0\n",
              "29654     512.3    530.4       477.7    360.0\n",
              "37825     430.1    532.3       498.4    520.0"
            ]
          },
          "metadata": {
            "tags": []
          },
          "execution_count": 46
        }
      ]
    },
    {
      "cell_type": "code",
      "metadata": {
        "id": "uR_sWM2wbmMR",
        "colab_type": "code",
        "colab": {}
      },
      "source": [
        "#Eu posso importar vários algoritmos para treinar e testar,o escolhido foi o svc\n",
        "from sklearn.svm import LinearSVR"
      ],
      "execution_count": 0,
      "outputs": []
    },
    {
      "cell_type": "code",
      "metadata": {
        "id": "fOf5uRGYcADO",
        "colab_type": "code",
        "colab": {}
      },
      "source": [
        "#Overfit é quando eu treino um algoritmo que só funciona numa escala que so preve os mesmos dados"
      ],
      "execution_count": 0,
      "outputs": []
    },
    {
      "cell_type": "code",
      "metadata": {
        "id": "OWI4tPNDdHt_",
        "colab_type": "code",
        "colab": {
          "base_uri": "https://localhost:8080/",
          "height": 122
        },
        "outputId": "82a7761f-5b9d-416e-8ed8-4d5cf3e955f2"
      },
      "source": [
        "#Treinando o algoritmo\n",
        "modelo = LinearSVR()\n",
        "modelo.fit(x_treino,y_treino)\n",
        "\n"
      ],
      "execution_count": 49,
      "outputs": [
        {
          "output_type": "stream",
          "text": [
            "/usr/local/lib/python3.6/dist-packages/sklearn/svm/_base.py:947: ConvergenceWarning: Liblinear failed to converge, increase the number of iterations.\n",
            "  \"the number of iterations.\", ConvergenceWarning)\n"
          ],
          "name": "stderr"
        },
        {
          "output_type": "execute_result",
          "data": {
            "text/plain": [
              "LinearSVR(C=1.0, dual=True, epsilon=0.0, fit_intercept=True,\n",
              "          intercept_scaling=1.0, loss='epsilon_insensitive', max_iter=1000,\n",
              "          random_state=None, tol=0.0001, verbose=0)"
            ]
          },
          "metadata": {
            "tags": []
          },
          "execution_count": 49
        }
      ]
    },
    {
      "cell_type": "code",
      "metadata": {
        "id": "AMhKQoB-dLxN",
        "colab_type": "code",
        "colab": {
          "base_uri": "https://localhost:8080/",
          "height": 51
        },
        "outputId": "b643b216-6971-4b66-b841-3de0ea20033f"
      },
      "source": [
        "#Usando o modelo de teste do X\n",
        "modelo.predict(x_teste)"
      ],
      "execution_count": 50,
      "outputs": [
        {
          "output_type": "execute_result",
          "data": {
            "text/plain": [
              "array([513.24587743, 548.26027986, 545.9109905 , ..., 550.09728303,\n",
              "       434.67978471, 467.78362976])"
            ]
          },
          "metadata": {
            "tags": []
          },
          "execution_count": 50
        }
      ]
    },
    {
      "cell_type": "code",
      "metadata": {
        "id": "CEmEhX76do3u",
        "colab_type": "code",
        "colab": {
          "base_uri": "https://localhost:8080/",
          "height": 51
        },
        "outputId": "f8c20e68-b827-4f2e-8ca1-a43b1b9c9cad"
      },
      "source": [
        "predicoes_linguagens = modelo.predict(x_teste)\n",
        "predicoes_linguagens[:5]"
      ],
      "execution_count": 51,
      "outputs": [
        {
          "output_type": "execute_result",
          "data": {
            "text/plain": [
              "array([513.24587743, 548.26027986, 545.9109905 , 483.44328879,\n",
              "       610.0069602 ])"
            ]
          },
          "metadata": {
            "tags": []
          },
          "execution_count": 51
        }
      ]
    },
    {
      "cell_type": "code",
      "metadata": {
        "id": "rX9L5z36dv7W",
        "colab_type": "code",
        "colab": {
          "base_uri": "https://localhost:8080/",
          "height": 119
        },
        "outputId": "ab66ec61-fe19-4065-d6d7-a7fc21d0e2ff"
      },
      "source": [
        "#Para prever o Y\n",
        "y_teste[:5]"
      ],
      "execution_count": 52,
      "outputs": [
        {
          "output_type": "execute_result",
          "data": {
            "text/plain": [
              "46600     399.7\n",
              "84953     573.6\n",
              "120146    559.9\n",
              "37902     477.8\n",
              "85403     608.7\n",
              "Name: linguagens, dtype: float64"
            ]
          },
          "metadata": {
            "tags": []
          },
          "execution_count": 52
        }
      ]
    },
    {
      "cell_type": "code",
      "metadata": {
        "id": "oEkyj17LeJNT",
        "colab_type": "code",
        "colab": {}
      },
      "source": [
        "#Essa leitura dos valores mostra que o algortimo tentou prever com base no x\n",
        "#os valores de y,como pode-se observar teve valores próximos\n"
      ],
      "execution_count": 0,
      "outputs": []
    },
    {
      "cell_type": "code",
      "metadata": {
        "id": "BLwC6Oa3er8I",
        "colab_type": "code",
        "colab": {
          "base_uri": "https://localhost:8080/",
          "height": 445
        },
        "outputId": "fb644434-f915-4752-a4a3-f878a26d0906"
      },
      "source": [
        "#PLOTANDO GRÁFICO para ANÁLISE\n",
        "import matplotlib.pyplot as plt\n",
        "plt.figure(figsize=(7,7))\n",
        "sns.scatterplot(x=y_teste.values, y=predicoes_linguagens,)"
      ],
      "execution_count": 53,
      "outputs": [
        {
          "output_type": "execute_result",
          "data": {
            "text/plain": [
              "<matplotlib.axes._subplots.AxesSubplot at 0x7fa4cd8fc4a8>"
            ]
          },
          "metadata": {
            "tags": []
          },
          "execution_count": 53
        },
        {
          "output_type": "display_data",
          "data": {
            "image/png": "[encoded data removed]",
            "text/plain": [
              "<Figure size 504x504 with 1 Axes>"
            ]
          },
          "metadata": {
            "tags": [],
            "needs_background": "light"
          }
        }
      ]
    },
    {
      "cell_type": "code",
      "metadata": {
        "id": "t52U2PMtfBVo",
        "colab_type": "code",
        "colab": {}
      },
      "source": [
        "##Leitura = X são as notad tiras, Y são notas da predição"
      ],
      "execution_count": 0,
      "outputs": []
    },
    {
      "cell_type": "code",
      "metadata": {
        "id": "quJKDhEogIs_",
        "colab_type": "code",
        "colab": {}
      },
      "source": [
        "#Está usando regressão(SVR) pq buscam variáveis reais\n",
        "#Se for do tipo de classificação : vermelho,azul...usa SVC"
      ],
      "execution_count": 0,
      "outputs": []
    },
    {
      "cell_type": "code",
      "metadata": {
        "id": "NqGEDA49qLo6",
        "colab_type": "code",
        "colab": {
          "base_uri": "https://localhost:8080/",
          "height": 119
        },
        "outputId": "f3459e1b-9a83-44b1-faca-8480d5156b65"
      },
      "source": [
        "from sklearn.tree import DecisionTreeRegressor\n",
        "modelo = DecisionTreeRegressor()\n",
        "modelo.fit(x_treino,y_treino)"
      ],
      "execution_count": 56,
      "outputs": [
        {
          "output_type": "execute_result",
          "data": {
            "text/plain": [
              "DecisionTreeRegressor(ccp_alpha=0.0, criterion='mse', max_depth=None,\n",
              "                      max_features=None, max_leaf_nodes=None,\n",
              "                      min_impurity_decrease=0.0, min_impurity_split=None,\n",
              "                      min_samples_leaf=1, min_samples_split=2,\n",
              "                      min_weight_fraction_leaf=0.0, presort='deprecated',\n",
              "                      random_state=None, splitter='best')"
            ]
          },
          "metadata": {
            "tags": []
          },
          "execution_count": 56
        }
      ]
    },
    {
      "cell_type": "markdown",
      "metadata": {
        "id": "1E973IwZvESN",
        "colab_type": "text"
      },
      "source": [
        "Plotar gráfico comparando com a coluna de matemática para descobrir as predições para linguagens"
      ]
    },
    {
      "cell_type": "code",
      "metadata": {
        "id": "wNMzOD4_qYNk",
        "colab_type": "code",
        "colab": {
          "base_uri": "https://localhost:8080/",
          "height": 445
        },
        "outputId": "af9e62e7-cf58-42a3-ceca-66f34472c70d"
      },
      "source": [
        "\n",
        "plt.figure(figsize=(7,7))\n",
        "sns.scatterplot(x=x_teste['matematica'].values, y= predicoes_linguagens)\n",
        "sns.scatterplot(x=x_teste['matematica'].values, y=y_teste.values)"
      ],
      "execution_count": 58,
      "outputs": [
        {
          "output_type": "execute_result",
          "data": {
            "text/plain": [
              "<matplotlib.axes._subplots.AxesSubplot at 0x7fa4ca059518>"
            ]
          },
          "metadata": {
            "tags": []
          },
          "execution_count": 58
        },
        {
          "output_type": "display_data",
          "data": {
            "image/png": "[encoded data removed]",
            "text/plain": [
              "<Figure size 504x504 with 1 Axes>"
            ]
          },
          "metadata": {
            "tags": [],
            "needs_background": "light"
          }
        }
      ]
    },
    {
      "cell_type": "code",
      "metadata": {
        "id": "DL6IpRhVqeLF",
        "colab_type": "code",
        "colab": {}
      },
      "source": [
        "##Leitura = X são as notad tiras, Y são notas da predição\n",
        "##Azul=predicao, Laranja=Real"
      ],
      "execution_count": 0,
      "outputs": []
    },
    {
      "cell_type": "code",
      "metadata": {
        "id": "nxLfMRuKsNLJ",
        "colab_type": "code",
        "colab": {
          "base_uri": "https://localhost:8080/",
          "height": 34
        },
        "outputId": "2c0711c5-0206-4263-83af-b8495bc188d0"
      },
      "source": [
        "#CALCULO DO ERRO => Para saber a eficiencia do algoritmo\n",
        "#Usando mean_squared\n",
        "from sklearn.metrics import mean_squared_error\n",
        "mean_squared_error(y_teste,predicoes_linguagens)\n"
      ],
      "execution_count": 61,
      "outputs": [
        {
          "output_type": "execute_result",
          "data": {
            "text/plain": [
              "2176.995478813479"
            ]
          },
          "metadata": {
            "tags": []
          },
          "execution_count": 61
        }
      ]
    },
    {
      "cell_type": "markdown",
      "metadata": {
        "id": "4pE0cryfuSPH",
        "colab_type": "text"
      },
      "source": [
        "Esse valor mostra que a distancia entre a predição e o ponto real é  ~ 45"
      ]
    },
    {
      "cell_type": "code",
      "metadata": {
        "id": "F92NM6GgsgLB",
        "colab_type": "code",
        "colab": {
          "base_uri": "https://localhost:8080/",
          "height": 34
        },
        "outputId": "c22a227a-fe92-45b3-df62-fb48a4afa40a"
      },
      "source": [
        "#Erro usando dummy\n",
        "from sklearn.dummy import DummyRegressor\n",
        "modelo_dummy = DummyRegressor()\n",
        "modelo_dummy.fit(x_treino,y_treino)\n",
        "dummy_predicoes = modelo_dummy.predict(x_teste)\n",
        "mean_squared_error(y_teste,dummy_predicoes)"
      ],
      "execution_count": 65,
      "outputs": [
        {
          "output_type": "execute_result",
          "data": {
            "text/plain": [
              "5160.469771284238"
            ]
          },
          "metadata": {
            "tags": []
          },
          "execution_count": 65
        }
      ]
    },
    {
      "cell_type": "markdown",
      "metadata": {
        "id": "6W7EWssCujmP",
        "colab_type": "text"
      },
      "source": [
        "Esse valor mostra que a distancia entre a predição e o ponto real é  ~ 75"
      ]
    },
    {
      "cell_type": "code",
      "metadata": {
        "id": "5ZK3o69gsux8",
        "colab_type": "code",
        "colab": {}
      },
      "source": [
        "#O dummy tem mais erro que o squarred"
      ],
      "execution_count": 0,
      "outputs": []
    },
    {
      "cell_type": "markdown",
      "metadata": {
        "id": "BImcxfU_w7aN",
        "colab_type": "text"
      },
      "source": [
        "Desafio :\n",
        "-Prever o restante das matérias,explorar por própria"
      ]
    },
    {
      "cell_type": "code",
      "metadata": {
        "id": "KwAlbynQxDNr",
        "colab_type": "code",
        "colab": {}
      },
      "source": [
        ""
      ],
      "execution_count": 0,
      "outputs": []
    }
  ]
}